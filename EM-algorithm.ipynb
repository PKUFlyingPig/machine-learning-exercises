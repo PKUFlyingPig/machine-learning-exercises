{
 "cells": [
  {
   "cell_type": "markdown",
   "metadata": {},
   "source": [
    "## EM algorithm to solve Mixture of Gaussian"
   ]
  },
  {
   "cell_type": "code",
   "execution_count": 28,
   "metadata": {
    "ExecuteTime": {
     "end_time": "2020-03-24T04:15:15.560386Z",
     "start_time": "2020-03-24T04:15:15.556146Z"
    }
   },
   "outputs": [],
   "source": [
    "import numpy as np\n",
    "import matplotlib.pyplot as plt"
   ]
  },
  {
   "cell_type": "code",
   "execution_count": 52,
   "metadata": {
    "ExecuteTime": {
     "end_time": "2020-03-24T04:34:47.290481Z",
     "start_time": "2020-03-24T04:34:47.122466Z"
    }
   },
   "outputs": [
    {
     "name": "stdout",
     "output_type": "stream",
     "text": [
      "[[ 0.01501703 -1.96645385]\n",
      " [ 5.26279743  2.78817091]\n",
      " [ 7.80861827  5.11821458]\n",
      " ...\n",
      " [-6.28980122 -5.54954711]\n",
      " [-0.6126305   0.02192317]\n",
      " [-8.2015517  -5.49554098]]\n"
     ]
    },
    {
     "data": {
      "text/plain": [
       "<matplotlib.collections.PathCollection at 0x1a26326bd0>"
      ]
     },
     "execution_count": 52,
     "metadata": {},
     "output_type": "execute_result"
    },
    {
     "data": {
      "image/png": "[encoded data removed]",
      "text/plain": [
       "<Figure size 432x288 with 1 Axes>"
      ]
     },
     "metadata": {
      "needs_background": "dark"
     },
     "output_type": "display_data"
    }
   ],
   "source": [
    "# create some fake data\n",
    "Gaussion_nums=3\n",
    "data_nums=Gaussion_nums*200\n",
    "test_mean=[[7,4],[-4,-5],[4,-2]]\n",
    "test_cov=[[[2,0],[0,1]],[[3,0],[0,2]],[[7,0],[0,4]]]\n",
    "X1=np.random.multivariate_normal(mean=test_mean[0],cov=test_cov[0],size=200)\n",
    "X2=np.random.multivariate_normal(mean=test_mean[1],cov=test_cov[1],size=200)\n",
    "X3=np.random.multivariate_normal(mean=test_mean[2],cov=test_cov[2],size=200)\n",
    "X=np.r_[X1,X2,X3]\n",
    "np.random.shuffle(X)\n",
    "print(X)\n",
    "plt.scatter(X[:,0],X[:,1])"
   ]
  },
  {
   "cell_type": "code",
   "execution_count": 53,
   "metadata": {
    "ExecuteTime": {
     "end_time": "2020-03-24T04:34:48.011675Z",
     "start_time": "2020-03-24T04:34:47.997746Z"
    }
   },
   "outputs": [
    {
     "name": "stdout",
     "output_type": "stream",
     "text": [
      "[[ 1.4299562   1.87520843]\n",
      " [-0.44817686  0.98836333]\n",
      " [ 0.26589353  1.51867961]]\n",
      "[array([[1., 0.],\n",
      "       [0., 1.]]), array([[1., 0.],\n",
      "       [0., 1.]]), array([[1., 0.],\n",
      "       [0., 1.]])]\n",
      "[0.4220036  0.84150093 0.92263666]\n"
     ]
    }
   ],
   "source": [
    "# initialize the parameters for three Gaussians\n",
    "mu=np.random.randn(3,2)\n",
    "sigma=[np.eye(2,2) for i in range(3)]\n",
    "phi=np.random.rand(3)\n",
    "print(mu)\n",
    "print(sigma)\n",
    "print(phi)\n"
   ]
  },
  {
   "cell_type": "code",
   "execution_count": 54,
   "metadata": {
    "ExecuteTime": {
     "end_time": "2020-03-24T04:34:48.798854Z",
     "start_time": "2020-03-24T04:34:48.791321Z"
    }
   },
   "outputs": [],
   "source": [
    "# compute p(x_i|z_i=j)\n",
    "def condi_Gaussian(x,z):\n",
    "    m=mu[z]\n",
    "    sig=sigma[z]\n",
    "    sig_inv=np.linalg.inv(sig)\n",
    "    return np.exp(-0.5*(x-m)@sig_inv@(x-m))/np.linalg.det(sig)"
   ]
  },
  {
   "cell_type": "code",
   "execution_count": 55,
   "metadata": {
    "ExecuteTime": {
     "end_time": "2020-03-24T04:34:52.728353Z",
     "start_time": "2020-03-24T04:34:49.328531Z"
    }
   },
   "outputs": [
    {
     "name": "stdout",
     "output_type": "stream",
     "text": [
      "step 0, loss=-12683.83720\n",
      "step 1, loss=-3945.26756\n",
      "step 2, loss=-3090.45931\n",
      "step 3, loss=-2848.59902\n",
      "step 4, loss=-2769.13439\n",
      "step 5, loss=-2725.38915\n",
      "step 6, loss=-2682.83000\n",
      "step 7, loss=-2638.12836\n",
      "step 8, loss=-2593.73131\n",
      "step 9, loss=-2552.54702\n",
      "step 10, loss=-2516.40599\n",
      "step 11, loss=-2486.13103\n",
      "step 12, loss=-2462.52494\n",
      "step 13, loss=-2446.11136\n",
      "step 14, loss=-2435.91855\n",
      "step 15, loss=-2430.00561\n",
      "step 16, loss=-2426.67257\n",
      "step 17, loss=-2424.81086\n",
      "step 18, loss=-2423.77250\n",
      "step 19, loss=-2423.19303\n",
      "step 20, loss=-2422.86972\n",
      "step 21, loss=-2422.68978\n",
      "step 22, loss=-2422.59019\n",
      "step 23, loss=-2422.53561\n",
      "step 24, loss=-2422.50615\n",
      "step 25, loss=-2422.49061\n",
      "step 26, loss=-2422.48272\n",
      "step 27, loss=-2422.47894\n",
      "step 28, loss=-2422.47732\n",
      "step 29, loss=-2422.47679\n"
     ]
    }
   ],
   "source": [
    "# EM iteration\n",
    "W=np.zeros((data_nums,Gaussion_nums))\n",
    "loss=0\n",
    "old_loss=0\n",
    "for s in range(100):\n",
    "    # E-step\n",
    "    loss=0\n",
    "    for i in range(data_nums):\n",
    "        tmp=np.zeros(Gaussion_nums)\n",
    "        for j in range(Gaussion_nums):\n",
    "            tmp[j]=condi_Gaussian(X[i],j)*phi[j]\n",
    "        normalization=np.sum(tmp)\n",
    "        for j in range(Gaussion_nums):\n",
    "            W[i][j]=tmp[j]/normalization\n",
    "            loss+=(W[i][j]*np.log(tmp[j]/W[i][j]))\n",
    "    print(f\"step {s}, loss={loss:.5f}\")\n",
    "    if abs(old_loss-loss)<1e-3:\n",
    "        break\n",
    "    old_loss=loss\n",
    "    # M-step\n",
    "    for j in range(Gaussion_nums):\n",
    "        phi[j]=np.sum(W[:,j])/data_nums\n",
    "        sig_tmp=np.zeros((2,2))\n",
    "        mu_tmp=np.zeros((2,))\n",
    "        for i in range(data_nums):\n",
    "            mu_tmp+=W[i,j]*X[i]\n",
    "            sig_tmp+=W[i,j]*(X[i]-mu[j])[:,np.newaxis]@(X[i]-mu[j][np.newaxis,:])\n",
    "        mu[j]=mu_tmp/(phi[j]*data_nums)\n",
    "        sigma[j]=sig_tmp/(phi[j]*data_nums)\n",
    "    "
   ]
  },
  {
   "cell_type": "code",
   "execution_count": 56,
   "metadata": {
    "ExecuteTime": {
     "end_time": "2020-03-24T04:34:52.751202Z",
     "start_time": "2020-03-24T04:34:52.733644Z"
    }
   },
   "outputs": [
    {
     "name": "stdout",
     "output_type": "stream",
     "text": [
      "[[7, 4], [-4, -5], [4, -2]]\n",
      "[[ 6.89263494  3.87541387]\n",
      " [-3.79494432 -4.90925045]\n",
      " [ 4.27670931 -1.92711354]]\n",
      "[[[2, 0], [0, 1]], [[3, 0], [0, 2]], [[7, 0], [0, 4]]]\n",
      "[array([[2.12271919, 0.01537255],\n",
      "       [0.01537255, 1.50088058]]), array([[5.26666163, 0.4499918 ],\n",
      "       [0.4499918 , 1.69574572]]), array([[ 6.5063268 , -0.90276312],\n",
      "       [-0.90276312,  2.77246074]])]\n"
     ]
    }
   ],
   "source": [
    "print(test_mean)\n",
    "print(mu)\n",
    "print(test_cov)\n",
    "print(sigma)"
   ]
  },
  {
   "cell_type": "code",
   "execution_count": 57,
   "metadata": {
    "ExecuteTime": {
     "end_time": "2020-03-24T04:34:56.562989Z",
     "start_time": "2020-03-24T04:34:56.541132Z"
    }
   },
   "outputs": [
    {
     "data": {
      "text/plain": [
       "GaussianMixture(covariance_type='full', init_params='kmeans', max_iter=100,\n",
       "                means_init=None, n_components=3, n_init=1, precisions_init=None,\n",
       "                random_state=0, reg_covar=1e-06, tol=0.001, verbose=0,\n",
       "                verbose_interval=10, warm_start=False, weights_init=None)"
      ]
     },
     "execution_count": 57,
     "metadata": {},
     "output_type": "execute_result"
    }
   ],
   "source": [
    "from sklearn.mixture import GaussianMixture\n",
    "gmm=GaussianMixture(n_components=3,covariance_type='full', random_state=0)\n",
    "gmm.fit(X)\n"
   ]
  },
  {
   "cell_type": "code",
   "execution_count": 58,
   "metadata": {
    "ExecuteTime": {
     "end_time": "2020-03-24T04:34:57.496286Z",
     "start_time": "2020-03-24T04:34:57.489150Z"
    }
   },
   "outputs": [
    {
     "name": "stdout",
     "output_type": "stream",
     "text": [
      "[[ 6.92629599  3.96447159]\n",
      " [-3.99933948 -4.97301208]\n",
      " [ 4.12592937 -1.90374852]]\n",
      "[[[ 2.06047734 -0.0538924 ]\n",
      "  [-0.0538924   1.27515566]]\n",
      "\n",
      " [[ 4.47676309  0.24102403]\n",
      "  [ 0.24102403  1.59594964]]\n",
      "\n",
      " [[ 7.0414659  -0.37232227]\n",
      "  [-0.37232227  3.16852078]]]\n"
     ]
    }
   ],
   "source": [
    "print(gmm.means_)\n",
    "print(gmm.covariances_)"
   ]
  },
  {
   "cell_type": "code",
   "execution_count": null,
   "metadata": {},
   "outputs": [],
   "source": []
  }
 ],
 "metadata": {
  "kernelspec": {
   "display_name": "Python 3",
   "language": "python",
   "name": "python3"
  },
  "language_info": {
   "codemirror_mode": {
    "name": "ipython",
    "version": 3
   },
   "file_extension": ".py",
   "mimetype": "text/x-python",
   "name": "python",
   "nbconvert_exporter": "python",
   "pygments_lexer": "ipython3",
   "version": "3.7.6"
  }
 },
 "nbformat": 4,
 "nbformat_minor": 4
}
